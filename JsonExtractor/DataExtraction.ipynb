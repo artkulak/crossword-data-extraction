{
 "cells": [
  {
   "cell_type": "code",
   "execution_count": 1,
   "metadata": {},
   "outputs": [],
   "source": [
    "import cv2\n",
    "import matplotlib.pyplot as plt\n",
    "import pandas as pd\n",
    "import numpy as np\n",
    "import os\n",
    "from imutils import contours\n",
    "import shutil\n",
    "\n",
    "\n",
    "%matplotlib inline"
   ]
  },
  {
   "cell_type": "code",
   "execution_count": 2,
   "metadata": {},
   "outputs": [],
   "source": [
    "def calcCoordinates(line):\n",
    "    rho,theta = line.reshape(-1)\n",
    "    a = np.cos(theta)\n",
    "    b = np.sin(theta)\n",
    "    x0 = a*rho\n",
    "    y0 = b*rho\n",
    "    x1 = int(x0 + 100000*(-b))\n",
    "    y1 = int(y0 + 100000*(a))\n",
    "    x2 = int(x0 - 100000*(-b))\n",
    "    y2 = int(y0 - 100000*(a))\n",
    "    \n",
    "    return x1, y1, x2, y2\n",
    "\n",
    "def calcTangent(x1, y1, x2, y2):\n",
    "    if (y2 - y1) != 0:\n",
    "        return abs((x2-x1) / (y2 - y1))\n",
    "    else:\n",
    "        return 1000\n",
    "\n",
    "def getLines(image, filter = True):\n",
    "    \n",
    "    '''\n",
    "    The method finds each sudoku cell with Lines\n",
    "    '''\n",
    "    \n",
    "    # apply some preprocessing before applying Hough transform\n",
    "    gray = cv2.cvtColor(img,cv2.COLOR_BGR2GRAY)\n",
    "    edges = cv2.Canny(gray,90,150,apertureSize = 3)\n",
    "    kernel = np.ones((3, 3),np.uint8)\n",
    "    edges = cv2.dilate(edges,kernel,iterations = 1)\n",
    "    kernel = np.ones((5, 5),np.uint8)\n",
    "    edges = cv2.erode(edges,kernel,iterations = 1)\n",
    "\n",
    "\n",
    "\n",
    "    # find lines on the preprocessed image u|sing Hough Transform\n",
    "    lines = cv2.HoughLines(edges,1,np.pi/180,400)\n",
    "\n",
    "    \n",
    "    if not lines.any():\n",
    "        print('No lines were found')\n",
    "        exit()\n",
    "\n",
    "    # calculate how many horizontal lines were found\n",
    "    tot = 0\n",
    "    for line in lines:\n",
    "        x1, y1, x2, y2 = calcCoordinates(line)\n",
    "        \n",
    "        tan = calcTangent(x1, y1, x2, y2)\n",
    "        if tan > 1000:\n",
    "            tot += 1\n",
    "      \n",
    "    boundaryLines = np.asarray([[0, 0], [1, 1.5707964e+00], [image.shape[1], 0], [image.shape[0], 1.5707964e+00]]).reshape(-1, 1, 2)\n",
    "    lines = list(np.concatenate([np.asarray(lines), boundaryLines], axis = 0))\n",
    "    # remove redundant lines which do not  fit into the crossword pattern\n",
    "    if filter:\n",
    "        rho_threshold = image.shape[0] / (tot + 1)\n",
    "        theta_threshold = 0.01\n",
    "\n",
    "        # how many lines are similar to a given one\n",
    "        similar_lines = {i : [] for i in range(len(lines))}\n",
    "        for i in range(len(lines)):\n",
    "            for j in range(len(lines)):\n",
    "                if i == j:\n",
    "                    continue\n",
    "\n",
    "                rho_i,theta_i = lines[i][0]\n",
    "                rho_j,theta_j = lines[j][0]\n",
    "                if abs(rho_i - rho_j) < rho_threshold and abs(theta_i - theta_j) < theta_threshold:\n",
    "                    similar_lines[i].append(j)\n",
    "\n",
    "        # ordering the INDECES of the lines by how many are similar to them\n",
    "        indices = [i for i in range(len(lines))]\n",
    "        indices.sort(key=lambda x : len(similar_lines[x]))\n",
    "\n",
    "        # line flags is the base for the filtering\n",
    "        line_flags = len(lines)*[True]\n",
    "        for i in range(len(lines) - 1):\n",
    "            if not line_flags[indices[i]]: # if we already disregarded the ith element in the ordered list then we don't care (we will not delete anything based on it and we will never reconsider using this line again)\n",
    "                continue\n",
    "\n",
    "            for j in range(i + 1, len(lines)): # we are only considering those elements that had less similar line\n",
    "                if not line_flags[indices[j]]: # and only if we have not disregarded them already\n",
    "                    continue\n",
    "\n",
    "                rho_i,theta_i = lines[indices[i]][0]\n",
    "                rho_j,theta_j = lines[indices[j]][0]\n",
    "                if abs(rho_i - rho_j) < rho_threshold and abs(theta_i - theta_j) < theta_threshold:\n",
    "                    line_flags[indices[j]] = False # if it is similar and have not been disregarded yet then drop it now\n",
    "\n",
    "    print('number of Hough lines:', len(lines))\n",
    "\n",
    "    filtered_lines = []\n",
    "\n",
    "    if filter:\n",
    "        for i in range(len(lines)): # filtering\n",
    "            if line_flags[i]:\n",
    "                filtered_lines.append(lines[i])\n",
    "\n",
    "        print('Number of filtered lines:', len(filtered_lines))\n",
    "    else:\n",
    "        filtered_lines = lines\n",
    "        \n",
    "\n",
    "    # draw the lines on the image and mask and save them\n",
    "    mask = np.zeros_like(img)\n",
    "    final_lines = []\n",
    "    for line in filtered_lines:\n",
    "        x1, y1, x2, y2 = calcCoordinates(line)\n",
    "        tan = calcTangent(x1, y1, x2, y2)\n",
    "        if tan > 1000 or tan == 0:\n",
    "            cv2.line(img,(x1,y1),(x2,y2),(0,0,255),2)\n",
    "            cv2.line(mask,(x1,y1),(x2,y2),(0,0,255),2)\n",
    "            final_lines.append(line)\n",
    "\n",
    "\n",
    "    cv2.imwrite('hough.jpg',img)\n",
    "    cv2.imwrite('mask.jpg',mask)\n",
    "    \n",
    "    return final_lines, (img, mask)"
   ]
  },
  {
   "cell_type": "code",
   "execution_count": 3,
   "metadata": {},
   "outputs": [],
   "source": [
    "def intersection(line1, line2):\n",
    "    \"\"\"Finds the intersection of two lines given in Hesse normal form.\n",
    "\n",
    "    Returns closest integer pixel locations.\n",
    "    See https://stackoverflow.com/a/383527/5087436\n",
    "    \"\"\"\n",
    "    rho1, theta1 = line1\n",
    "    rho2, theta2 = line2\n",
    "    A = np.array([\n",
    "        [np.cos(theta1), np.sin(theta1)],\n",
    "        [np.cos(theta2), np.sin(theta2)]\n",
    "    ])\n",
    "    b = np.array([[rho1], [rho2]])\n",
    "    x0, y0 = np.linalg.solve(A, b)\n",
    "    x0, y0 = int(np.round(x0)), int(np.round(y0))\n",
    "    return [[x0, y0]]\n",
    "\n",
    "\n",
    "def segmented_intersections(lines):\n",
    "    \"\"\"Finds the intersections between groups of lines.\"\"\"\n",
    "\n",
    "    intersections = []\n",
    "    for i, group in enumerate(lines[:-1]):\n",
    "        for next_group in lines[i+1:]:\n",
    "            for line1 in group:\n",
    "                for line2 in next_group:\n",
    "                    x11, y11, x21, y21 = calcCoordinates(line1)\n",
    "                    x12, y12, x22, y22 = calcCoordinates(line2)\n",
    "                    \n",
    "                    tan1 = calcTangent(x11, y11, x21, y21)\n",
    "                    tan2 = calcTangent(x12, y12, x22, y22)\n",
    "                    \n",
    "                        \n",
    "                    if abs(tan1 - tan2) > 0.5:\n",
    "                        intersections.append(intersection(line1, line2)) \n",
    "\n",
    "    return intersections"
   ]
  },
  {
   "cell_type": "code",
   "execution_count": 4,
   "metadata": {},
   "outputs": [],
   "source": [
    "import pandas as pd\n",
    "def correctLines(lines):\n",
    "    '''\n",
    "    Adds some lines in case missing from standard methods\n",
    "    '''\n",
    "    \n",
    "    lineDists = pd.DataFrame(np.asarray(lines).reshape(-1, 2))\n",
    "    lineDists.iloc[:, 1] = (lineDists.iloc[:, 1] > 0).apply(int)\n",
    "    lineDists = lineDists.sort_values(by = [1, 0])\n",
    "    lineDists.columns = ['rho', 'theta']\n",
    "    lineDists['rho'] = lineDists['rho'].apply(int)\n",
    "    newLines = []\n",
    "    for value in lineDists['theta'].unique():\n",
    "        curDists = lineDists[lineDists['theta'] == value]\n",
    "        curDists['delta'] = curDists['rho'] - curDists['rho'].shift(1).fillna(0)\n",
    "\n",
    "        med = np.median(curDists['delta'].values)\n",
    "        for index, dist in enumerate(curDists['delta'].values):\n",
    "            if dist > 1.5 * med:\n",
    "                newLines.append(np.array([(curDists.iloc[index-1, 0] + curDists.iloc[index, 0]) // 2, value]).reshape(1, 2))\n",
    "    return lines + newLines\n",
    "    "
   ]
  },
  {
   "cell_type": "code",
   "execution_count": 5,
   "metadata": {},
   "outputs": [
    {
     "data": {
      "text/plain": [
       "['fa2_1_no_text.png', 'l1.png', 'p1_1.png', 'test', 'train']"
      ]
     },
     "execution_count": 5,
     "metadata": {},
     "output_type": "execute_result"
    }
   ],
   "source": [
    "os.listdir('data/')"
   ]
  },
  {
   "cell_type": "code",
   "execution_count": 6,
   "metadata": {},
   "outputs": [
    {
     "data": {
      "text/plain": [
       "['fa1_1_no_text.png', 'p2_1.png', 'p3_1.png', 'S1.png']"
      ]
     },
     "execution_count": 6,
     "metadata": {},
     "output_type": "execute_result"
    }
   ],
   "source": [
    "os.listdir('data/test/')"
   ]
  },
  {
   "cell_type": "code",
   "execution_count": 7,
   "metadata": {},
   "outputs": [
    {
     "name": "stdout",
     "output_type": "stream",
     "text": [
      "data/test/p3_1.png\n",
      "number of Hough lines: 36\n",
      "Number of filtered lines: 33\n"
     ]
    },
    {
     "name": "stderr",
     "output_type": "stream",
     "text": [
      "C:\\Anaconda3\\lib\\site-packages\\ipykernel_launcher.py:15: SettingWithCopyWarning: \n",
      "A value is trying to be set on a copy of a slice from a DataFrame.\n",
      "Try using .loc[row_indexer,col_indexer] = value instead\n",
      "\n",
      "See the caveats in the documentation: http://pandas.pydata.org/pandas-docs/stable/indexing.html#indexing-view-versus-copy\n",
      "  from ipykernel import kernelapp as app\n"
     ]
    }
   ],
   "source": [
    "path = 'data/test/' + os.listdir('data/test')[2]\n",
    "print(path)\n",
    "img = cv2.imread(path)\n",
    "\n",
    "# find crossword lines\n",
    "lines, (image, mask) = getLines(img, filter = True)\n",
    "\n",
    "# corrects some missing lines\n",
    "lines = correctLines(lines)\n",
    "\n",
    "# find line intersection points\n",
    "intersections = segmented_intersections(lines)"
   ]
  },
  {
   "cell_type": "code",
   "execution_count": 8,
   "metadata": {},
   "outputs": [
    {
     "data": {
      "text/plain": [
       "<matplotlib.image.AxesImage at 0xaa21feb198>"
      ]
     },
     "execution_count": 8,
     "metadata": {},
     "output_type": "execute_result"
    },
    {
     "data": {
      "image/png": "[encoded data removed]",
      "text/plain": [
       "<Figure size 2160x2160 with 1 Axes>"
      ]
     },
     "metadata": {
      "needs_background": "light"
     },
     "output_type": "display_data"
    }
   ],
   "source": [
    "pointMask = mask.copy()\n",
    "for point in np.asarray(intersections):\n",
    "    x, y = point.reshape(-1,)\n",
    "    pointMask = cv2.circle(pointMask, (x,y), 5, (255, 0, 255), -1, )\n",
    "plt.figure(figsize = (30, 30))\n",
    "plt.imshow(pointMask)"
   ]
  },
  {
   "cell_type": "code",
   "execution_count": 9,
   "metadata": {},
   "outputs": [],
   "source": [
    "# cut each cell separately and place it into the tmp folder\n",
    "path = 'tmp/'\n",
    "\n",
    "shutil.rmtree(path, ignore_errors = True)\n",
    "\n",
    "try:\n",
    "    os.mkdir(path)\n",
    "except:\n",
    "    pass\n",
    "\n",
    "xs = sorted(np.unique(np.asarray(intersections)[:, 0, 0]))\n",
    "ys = sorted(np.unique(np.asarray(intersections)[:, 0, 1]))\n",
    "for i, x in enumerate(xs[:-1]):\n",
    "    for j, y in enumerate(ys[:-1]):\n",
    "        cropImage = image[y:ys[j+1], x:xs[i+1]]\n",
    "        cv2.imwrite(path + f'{j}_{i}.png', cropImage)"
   ]
  },
  {
   "cell_type": "code",
   "execution_count": 28,
   "metadata": {},
   "outputs": [
    {
     "name": "stdout",
     "output_type": "stream",
     "text": [
      "Structure already created!\n"
     ]
    }
   ],
   "source": [
    "# prepare the folder structure for the training data\n",
    "clearFolders = False\n",
    "\n",
    "if clearFolders:\n",
    "    shutil.rmtree('training_data/', ignore_errors = True)\n",
    "try:\n",
    "    os.mkdir('training_data/')\n",
    "    os.mkdir('training_data/right/')\n",
    "    os.mkdir('training_data/down/')\n",
    "    os.mkdir('training_data/both/')\n",
    "    os.mkdir('training_data/inverse_arrow/')\n",
    "    os.mkdir('training_data/double_text/')\n",
    "    os.mkdir('training_data/single_text/')\n",
    "    os.mkdir('training_data/other/')\n",
    "except:\n",
    "    print('Structure already created!')"
   ]
  },
  {
   "cell_type": "code",
   "execution_count": null,
   "metadata": {},
   "outputs": [],
   "source": []
  }
 ],
 "metadata": {
  "kernelspec": {
   "display_name": "Python 3",
   "language": "python",
   "name": "python3"
  },
  "language_info": {
   "codemirror_mode": {
    "name": "ipython",
    "version": 3
   },
   "file_extension": ".py",
   "mimetype": "text/x-python",
   "name": "python",
   "nbconvert_exporter": "python",
   "pygments_lexer": "ipython3",
   "version": "3.6.6"
  }
 },
 "nbformat": 4,
 "nbformat_minor": 2
}
